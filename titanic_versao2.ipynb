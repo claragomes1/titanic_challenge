{
  "nbformat": 4,
  "nbformat_minor": 0,
  "metadata": {
    "colab": {
      "provenance": [],
      "include_colab_link": true
    },
    "kernelspec": {
      "name": "python3",
      "display_name": "Python 3"
    },
    "language_info": {
      "name": "python"
    }
  },
  "cells": [
    {
      "cell_type": "markdown",
      "metadata": {
        "id": "view-in-github",
        "colab_type": "text"
      },
      "source": [
        "<a href=\"https://colab.research.google.com/github/claragomes1/titanic_challenge/blob/main/titanic_versao2.ipynb\" target=\"_parent\"><img src=\"https://colab.research.google.com/assets/colab-badge.svg\" alt=\"Open In Colab\"/></a>"
      ]
    },
    {
      "cell_type": "markdown",
      "source": [
        "# **EXERĆICIO MINERAÇÃO DE DADOS [BCC-444] - LIMPEZA E TRANFORMAÇÃO DOS DADOS**\n",
        "\n",
        "\n",
        "**Alunos:** \n",
        "\n",
        "Michele Soares de Andrade - 20.1.4171 \n",
        "\n",
        "Gabriel Bruno Pereira Negri - 19.1.4976\n",
        "\n",
        "Clara Lóris de Sales Gomes - 18.2.4004\n",
        "\n",
        "\n",
        "**Desafio:** [Titanic: Machine Learning from Disaster](https://www.kaggle.com/c/titanic)\n",
        "\n"
      ],
      "metadata": {
        "id": "KQDQwGyS92yu"
      }
    },
    {
      "cell_type": "markdown",
      "source": [],
      "metadata": {
        "id": "nIXEm_yiyEOL"
      }
    },
    {
      "cell_type": "markdown",
      "source": [
        "### 1 - a) TIPOS DE ATRIBUTOS\n",
        "\n",
        "**PassengerId:** Atributo discreto, que identifica cada passageiro de forma única\n",
        "\n",
        "**Survived:** Atributo binário simétrico, que indica se o passageiro sobreviveu (1) ou não sobreviveu (0). As duas categorias têm a mesma relevância.\n",
        "\n",
        "**Pclass:** Atributo discreto, que indica a classe que o passageiro estava viajando. Podendo ser 1, 2 ou 3.\n",
        "\n",
        "**Name:** Atributo categórico nominal, que contém o nome completo do passageiro. Não possui uma ordem específica entre suas categorias.\n",
        "\n",
        "**Sex:** Atriuto binário, que indica o sexo do passadeiro, podendo ser feminino o masculino. As duas categorias têm a mesma relevância\n",
        "\n",
        "**Age:** Atributo contínuo, representa a idade dos passageiros e pode assumir qualquer valor dentro de um intervalo\n",
        "\n",
        "**SibSp:** Atributo discreto, representa o número de irmãos ou cônjuges a bordo\n",
        "\n",
        "**Parch:** Atributo discreto, representa o nḿero de pais ou filhos a bordo\n",
        "\n",
        "**Ticket:** Atributo categórico nominal, que representa o número do bilhete do passageiro. Não possui uma ordem específica entre suas categorias.\n",
        "\n",
        "**Fare:** Atributo contínuo, representa a tarifa paga pelo passageiro. Pode assumir infinitos valores dentro de um intervalo contínuo\n",
        "\n",
        "**Cabin:** Atributo categórico nominal, representa a cabine que o passageiro estava. Identificado por letras e números sem uma ordem específica\n",
        "\n",
        "\n",
        "\n",
        "\n"
      ],
      "metadata": {
        "id": "FsXFSebQ_eS9"
      }
    },
    {
      "cell_type": "code",
      "source": [
        "from sklearn.preprocessing import OneHotEncoder\n",
        "from sklearn.preprocessing import MinMaxScaler\n",
        "import pandas as pd\n",
        "import numpy as np\n",
        "import matplotlib.pyplot as plt\n",
        "import seaborn as sns"
      ],
      "metadata": {
        "id": "nOYvVHTI-JEO"
      },
      "execution_count": null,
      "outputs": []
    },
    {
      "cell_type": "markdown",
      "source": [
        "## Leitura dos dados"
      ],
      "metadata": {
        "id": "tjHuAQTkDrNC"
      }
    },
    {
      "cell_type": "code",
      "source": [
        "train_data = pd.read_csv('train.csv')\n",
        "test_data = pd.read_csv('test.csv')\n",
        "submission_data = pd.read_csv('gender_submission.csv')"
      ],
      "metadata": {
        "id": "eVYAgFxUDGiv"
      },
      "execution_count": null,
      "outputs": []
    },
    {
      "cell_type": "markdown",
      "source": [
        "### b ) ANÁLISE DOS ATRIBUTOS NUMÉRICOS"
      ],
      "metadata": {
        "id": "fikoXWlDEYZg"
      }
    },
    {
      "cell_type": "code",
      "source": [
        "atributos_numericos = ['Age', 'Fare']\n",
        "atributos_descricao = train_data[atributos_numericos].describe()\n",
        "print(atributos_descricao)\n",
        "\n",
        "# Gráfico estilo boxplot para visualizar outliers\n",
        "plt.figure(figsize=(10, 6))\n",
        "sns.boxplot(data=train_data[atributos_numericos])\n",
        "plt.title('Boxplot dos Atributos Numéricos')\n",
        "plt.xlabel('Atributos')\n",
        "plt.ylabel('Valores')\n",
        "plt.show()"
      ],
      "metadata": {
        "id": "iXjq97_OEMC_",
        "colab": {
          "base_uri": "https://localhost:8080/",
          "height": 721
        },
        "outputId": "794ee689-2cdc-4709-90ad-8ef29216c114"
      },
      "execution_count": null,
      "outputs": [
        {
          "output_type": "stream",
          "name": "stdout",
          "text": [
            "              Age        Fare\n",
            "count  714.000000  891.000000\n",
            "mean    29.699118   32.204208\n",
            "std     14.526497   49.693429\n",
            "min      0.420000    0.000000\n",
            "25%     20.125000    7.910400\n",
            "50%     28.000000   14.454200\n",
            "75%     38.000000   31.000000\n",
            "max     80.000000  512.329200\n"
          ]
        },
        {
          "output_type": "display_data",
          "data": {
            "text/plain": [
              "<Figure size 1000x600 with 1 Axes>"
            ],
            "image/png": "[encoded data removed]"
          },
          "metadata": {}
        }
      ]
    },
    {
      "cell_type": "markdown",
      "source": [
        "**AGE**\n",
        "\n",
        "* **Contagem (count):**Temos 714 valores não nulos para o atributo \"Age\", o que significa que existem algumas amostras que possuem valores ausentes (NaN) para a idade.\n",
        "\n",
        "* **Média (mean):** A média de idade dos passageiros é de aproximadamente 29.7 anos.\n",
        "\n",
        "* **Desvio-padrão (std):** O desvio-padrão de 14.5 indica a dispersão dos valores de idade em relação à média. Nesse caso, o desvio-padrão de 14.5 sugere que as idades dos passageiros variam consideravelmente.\n",
        "\n",
        "* **Valor mínimo (min):** O valor mínimo de 0.42 indica a idade mínima encontrada no conjunto de dados. Isso significa que há passageiros com idades próximas de um mês.\n",
        "\n",
        "* **Primeiro quartil (25%):** O primeiro quartil (25%) é igual a 20.125. Isso significa que 25% dos passageiros têm idade igual ou inferior a 20.125 anos.\n",
        "\n",
        "* **Mediana (50%):** A mediana, também conhecida como segundo quartil (50%), é igual a 28.0. Isso indica que metade dos passageiros tem idade abaixo de 28 anos.\n",
        "\n",
        "* **Terceiro quartil (75%):** O terceiro quartil (75%) é igual a 38.0. Isso significa que 75% dos passageiros têm idade igual ou inferior a 38.0 anos.\n",
        "\n",
        "* **Valor máximo (max):** O valor máximo de 80.0 indica a idade máxima encontrada no conjunto de dados. Isso significa que há passageiros com idades de até 80 anos.\n",
        "\n",
        "**FARE**\n",
        "\n",
        "* **Contagem (count):** O atributo \"Fare\" não possui valores ausentes, pois a contagem (count) é igual ao número total de amostras (891).\n",
        "\n",
        "* **Média (mean):** A média de tarifas dos passageiros é de aproximadamente 32.2. Esse valor representa o valor médio gasto pelos passageiros no conjunto de dados.\n",
        "\n",
        "* **Desvio-padrão (std):** O desvio-padrão de 49.7 indica uma dispersão significativa dos valores de tarifa em relação à média. Isso sugere que os passageiros gastaram uma variedade de valores diferentes nas tarifas.\n",
        "\n",
        "* **Valor mínimo (min):** O valor mínimo de 0.0 indica que há passageiros que não pagaram nenhuma tarifa, o que pode ser o caso de tripulações ou passageiros com tarifas isentas.\n",
        "\n",
        "* **Primeiro quartil (25%):** O primeiro quartil (25%) é igual a 7.9104. Isso significa que 25% dos passageiros pagaram uma tarifa igual ou inferior a 7.9104.\n",
        "\n",
        "* **Mediana (50%):** O valor do segundo quartil (mediana) é de 14.4542. Isso indica que 50% dos passageiros pagaram uma tarifa abaixo desse valor.\n",
        "\n",
        "* **Terceiro quartil (75%):** O valor do terceiro quartil é de 31. Isso significa que 75% dos passageiros pagaram uma tarifa abaixo desse valor.\n",
        "\n",
        "* **Valor máximo (max):** O valor máximo de tarifa é 512.3292, indicando que há passageiros que pagaram uma tarifa muito alta.\n",
        "\n"
      ],
      "metadata": {
        "id": "3FdI_taFFbrx"
      }
    },
    {
      "cell_type": "markdown",
      "source": [
        "### c) INDICAÇÃO DE VALORES POSSÍVEIS E POPULARIDADE PARA  ATRIBUTOS BINÁRIOS, NOMINAIS E ORDINAIS"
      ],
      "metadata": {
        "id": "ycXyBoRgR_0R"
      }
    },
    {
      "cell_type": "code",
      "source": [
        "# Atributo binário - Survived\n",
        "survived_counts = train_data['Survived'].value_counts()\n",
        "survived_prob = survived_counts / survived_counts.sum()\n",
        "\n",
        "print(\"Atributo binário - Survived:\")\n",
        "print(\"Valores possíveis:\", survived_counts.index.tolist())\n",
        "print(\"Popularidade de cada valor:\")\n",
        "print(survived_prob)\n",
        "\n",
        "# Atributo binário - Sex\n",
        "sex_counts = train_data['Sex'].value_counts()\n",
        "sex_prob = sex_counts / sex_counts.sum()\n",
        "\n",
        "print(\"\\nAtributo binário - Sex:\")\n",
        "print(\"Valores possíveis:\", sex_counts.index.tolist())\n",
        "print(\"Popularidade de cada valor:\")\n",
        "print(sex_prob)\n",
        "\n",
        "# Atributo binário - Embarked\n",
        "embarked_counts = train_data['Embarked'].value_counts()\n",
        "embarked_prob = embarked_counts / embarked_counts.sum()\n",
        "\n",
        "print(\"\\nAtributo binário - Embarked:\")\n",
        "print(\"Valores possíveis:\", embarked_counts.index.tolist())\n",
        "print(\"Popularidade de cada valor:\")\n",
        "print(embarked_prob)\n",
        "\n",
        "# Atributo nominal - Pclass\n",
        "pclass_counts = train_data['Pclass'].value_counts()\n",
        "pclass_prob = pclass_counts / pclass_counts.sum()\n",
        "\n",
        "print(\"\\nAtributo nominal - Pclass:\")\n",
        "print(\"Valores possíveis:\", pclass_counts.index.tolist())\n",
        "print(\"Popularidade de cada valor:\")\n",
        "print(pclass_prob)\n",
        "\n",
        "# Atributo nominal - Cabin\n",
        "cabin_counts = train_data['Cabin'].value_counts()\n",
        "cabin_prob = cabin_counts / cabin_counts.sum()\n",
        "\n",
        "print(\"\\nAtributo nominal - Cabin:\")\n",
        "print(\"Valores possíveis:\", cabin_counts.index.tolist())\n",
        "print(\"Popularidade de cada valor:\")\n",
        "print(cabin_prob)\n",
        "\n",
        "# Atributo ordinal - SibSp\n",
        "sibsp_counts = train_data['SibSp'].value_counts()\n",
        "sibsp_prob = sibsp_counts / sibsp_counts.sum()\n",
        "\n",
        "print(\"\\nAtributo ordinal - SibSp:\")\n",
        "print(\"Valores possíveis:\", sibsp_counts.index.tolist())\n",
        "print(\"Popularidade de cada valor:\")\n",
        "print(sibsp_prob)\n",
        "\n",
        "# Atributo ordinal - Parch\n",
        "parch_counts = train_data['Parch'].value_counts()\n",
        "parch_prob = parch_counts / parch_counts.sum()\n",
        "\n",
        "print(\"\\nAtributo ordinal - Parch:\")\n",
        "print(\"Valores possíveis:\", parch_counts.index.tolist())\n",
        "print(\"Popularidade de cada valor:\")\n",
        "print(parch_prob)\n",
        "\n",
        "# Atributo ordinal - Embarked\n",
        "embarked_counts = train_data['Embarked'].value_counts()\n",
        "embarked_prob = embarked_counts / embarked_counts.sum()\n",
        "\n",
        "print(\"\\nAtributo ordinal - Embarked:\")\n",
        "print(\"Valores possíveis:\", embarked_counts.index.tolist())\n",
        "print(\"Popularidade de cada valor:\")\n",
        "print(embarked_prob)\n",
        "\n",
        "# Atributo ordinal - Age\n",
        "age_counts = train_data['Age'].value_counts()\n",
        "age_prob = age_counts / age_counts.sum()\n",
        "\n",
        "print(\"\\nAtributo ordinal - Age:\")\n",
        "print(\"Valores possíveis:\", age_counts.index.tolist())\n",
        "print(\"Popularidade de cada valor:\")\n",
        "print(age_prob)\n",
        "\n",
        "# Atributo ordinal - Fare\n",
        "fare_counts = train_data['Fare'].value_counts()\n",
        "fare_prob = fare_counts / fare_counts.sum()\n",
        "\n",
        "print(\"\\nAtributo ordinal - Fare:\")\n",
        "print(\"Valores possíveis:\", fare_counts.index.tolist())\n",
        "print(\"Popularidade de cada valor:\")\n",
        "print(fare_prob)\n",
        "\n"
      ],
      "metadata": {
        "id": "GLvxZkDzTfYn",
        "colab": {
          "base_uri": "https://localhost:8080/"
        },
        "outputId": "1ca7a55b-529a-42fa-97df-f309677467f0"
      },
      "execution_count": null,
      "outputs": [
        {
          "output_type": "stream",
          "name": "stdout",
          "text": [
            "Atributo binário - Survived:\n",
            "Valores possíveis: [0, 1]\n",
            "Popularidade de cada valor:\n",
            "0    0.616162\n",
            "1    0.383838\n",
            "Name: Survived, dtype: float64\n",
            "\n",
            "Atributo binário - Sex:\n",
            "Valores possíveis: ['male', 'female']\n",
            "Popularidade de cada valor:\n",
            "male      0.647587\n",
            "female    0.352413\n",
            "Name: Sex, dtype: float64\n",
            "\n",
            "Atributo binário - Embarked:\n",
            "Valores possíveis: ['S', 'C', 'Q']\n",
            "Popularidade de cada valor:\n",
            "S    0.724409\n",
            "C    0.188976\n",
            "Q    0.086614\n",
            "Name: Embarked, dtype: float64\n",
            "\n",
            "Atributo nominal - Pclass:\n",
            "Valores possíveis: [3, 1, 2]\n",
            "Popularidade de cada valor:\n",
            "3    0.551066\n",
            "1    0.242424\n",
            "2    0.206510\n",
            "Name: Pclass, dtype: float64\n",
            "\n",
            "Atributo nominal - Cabin:\n",
            "Valores possíveis: ['B96 B98', 'G6', 'C23 C25 C27', 'C22 C26', 'F33', 'F2', 'E101', 'D', 'C78', 'C93', 'E8', 'D36', 'B77', 'C123', 'E121', 'E44', 'D35', 'C125', 'E67', 'B35', 'B18', 'E24', 'B49', 'C65', 'B20', 'B5', 'B57 B59 B63 B66', 'C126', 'B51 B53 B55', 'F4', 'C124', 'F G73', 'B58 B60', 'C52', 'D33', 'C68', 'D20', 'D26', 'B28', 'C83', 'E25', 'D17', 'B22', 'C92', 'C2', 'E33', 'C70', 'E58', 'A16', 'C86', 'D19', 'D48', 'A26', 'B50', 'A20', 'C101', 'A10', 'A23', 'E68', 'D9', 'B41', 'D50', 'C85', 'B71', 'D49', 'B42', 'C50', 'A24', 'E17', 'D28', 'C47', 'E49', 'B69', 'B102', 'A36', 'B82 B84', 'D6', 'B3', 'F38', 'E77', 'D11', 'D30', 'C46', 'D45', 'B101', 'B38', 'C45', 'C90', 'C62 C64', 'F G63', 'B39', 'E10', 'C95', 'B86', 'C99', 'B94', 'C87', 'D15', 'A31', 'B80', 'B4', 'A32', 'C49', 'A7', 'B19', 'D47', 'D7', 'F E69', 'C110', 'D10 D12', 'A5', 'E31', 'B30', 'B78', 'A6', 'D56', 'C103', 'E46', 'C118', 'A19', 'B73', 'A34', 'D46', 'B79', 'C30', 'B37', 'A14', 'E63', 'E12', 'D21', 'E38', 'C111', 'C104', 'C82', 'C106', 'E50', 'D37', 'C128', 'T', 'E40', 'C91', 'C32', 'E34', 'C7', 'C54', 'E36', 'C148']\n",
            "Popularidade de cada valor:\n",
            "B96 B98        0.019608\n",
            "G6             0.019608\n",
            "C23 C25 C27    0.019608\n",
            "C22 C26        0.014706\n",
            "F33            0.014706\n",
            "                 ...   \n",
            "E34            0.004902\n",
            "C7             0.004902\n",
            "C54            0.004902\n",
            "E36            0.004902\n",
            "C148           0.004902\n",
            "Name: Cabin, Length: 147, dtype: float64\n",
            "\n",
            "Atributo ordinal - SibSp:\n",
            "Valores possíveis: [0, 1, 2, 4, 3, 8, 5]\n",
            "Popularidade de cada valor:\n",
            "0    0.682379\n",
            "1    0.234568\n",
            "2    0.031425\n",
            "4    0.020202\n",
            "3    0.017957\n",
            "8    0.007856\n",
            "5    0.005612\n",
            "Name: SibSp, dtype: float64\n",
            "\n",
            "Atributo ordinal - Parch:\n",
            "Valores possíveis: [0, 1, 2, 5, 3, 4, 6]\n",
            "Popularidade de cada valor:\n",
            "0    0.760943\n",
            "1    0.132435\n",
            "2    0.089787\n",
            "5    0.005612\n",
            "3    0.005612\n",
            "4    0.004489\n",
            "6    0.001122\n",
            "Name: Parch, dtype: float64\n",
            "\n",
            "Atributo ordinal - Embarked:\n",
            "Valores possíveis: ['S', 'C', 'Q']\n",
            "Popularidade de cada valor:\n",
            "S    0.724409\n",
            "C    0.188976\n",
            "Q    0.086614\n",
            "Name: Embarked, dtype: float64\n",
            "\n",
            "Atributo ordinal - Age:\n",
            "Valores possíveis: [24.0, 22.0, 18.0, 19.0, 28.0, 30.0, 21.0, 25.0, 36.0, 29.0, 32.0, 35.0, 27.0, 26.0, 16.0, 31.0, 20.0, 34.0, 33.0, 23.0, 39.0, 40.0, 17.0, 42.0, 45.0, 38.0, 50.0, 2.0, 4.0, 44.0, 48.0, 47.0, 54.0, 9.0, 1.0, 51.0, 14.0, 52.0, 37.0, 49.0, 41.0, 3.0, 58.0, 15.0, 43.0, 62.0, 56.0, 5.0, 11.0, 60.0, 8.0, 6.0, 46.0, 61.0, 65.0, 7.0, 10.0, 64.0, 13.0, 63.0, 30.5, 57.0, 70.0, 0.75, 71.0, 59.0, 0.83, 40.5, 55.0, 32.5, 28.5, 45.5, 34.5, 0.42, 0.67, 66.0, 24.5, 80.0, 20.5, 53.0, 14.5, 70.5, 12.0, 36.5, 55.5, 0.92, 23.5, 74.0]\n",
            "Popularidade de cada valor:\n",
            "24.00    0.042017\n",
            "22.00    0.037815\n",
            "18.00    0.036415\n",
            "19.00    0.035014\n",
            "28.00    0.035014\n",
            "           ...   \n",
            "36.50    0.001401\n",
            "55.50    0.001401\n",
            "0.92     0.001401\n",
            "23.50    0.001401\n",
            "74.00    0.001401\n",
            "Name: Age, Length: 88, dtype: float64\n",
            "\n",
            "Atributo ordinal - Fare:\n",
            "Valores possíveis: [8.05, 13.0, 7.8958, 7.75, 26.0, 10.5, 7.925, 7.775, 7.2292, 0.0, 26.55, 7.8542, 8.6625, 7.25, 7.225, 9.5, 16.1, 24.15, 15.5, 14.4542, 69.55, 52.0, 7.05, 56.4958, 14.5, 31.275, 39.6875, 7.7958, 27.9, 30.0, 46.9, 26.25, 21.0, 27.7208, 29.125, 15.2458, 73.5, 30.5, 53.1, 39.0, 90.0, 15.85, 13.5, 7.55, 23.0, 12.475, 25.4667, 7.125, 7.65, 21.075, 7.7333, 11.5, 34.375, 7.8792, 19.2583, 227.525, 27.75, 263.0, 31.3875, 79.2, 151.55, 35.5, 120.0, 110.8833, 7.4958, 83.1583, 211.3375, 33.0, 20.525, 86.5, 12.35, 512.3292, 31.0, 113.275, 77.9583, 29.7, 135.6333, 26.2875, 153.4625, 79.65, 18.75, 52.5542, 14.4583, 76.7292, 41.5792, 11.1333, 18.0, 15.7417, 65.0, 134.5, 164.8667, 262.375, 82.1708, 56.9292, 108.9, 24.0, 133.65, 11.2417, 7.0542, 23.25, 78.85, 20.25, 17.8, 19.5, 57.9792, 9.225, 15.9, 106.425, 49.5042, 9.5875, 16.7, 30.0708, 93.5, 89.1042, 19.9667, 55.9, 83.475, 14.4, 71.0, 7.8292, 39.6, 146.5208, 69.3, 51.8625, 80.0, 91.0792, 78.2667, 27.0, 55.0, 9.825, 30.6958, 247.5208, 20.2125, 77.2875, 37.0042, 25.9292, 66.6, 6.4958, 10.4625, 23.45, 20.575, 18.7875, 9.35, 22.3583, 57.0, 36.75, 6.975, 29.0, 6.75, 7.7375, 9.0, 5.0, 14.1083, 9.8458, 39.4, 13.8625, 7.6292, 13.8583, 22.525, 49.5, 50.4958, 221.7792, 59.4, 34.0208, 51.4792, 17.4, 8.4583, 26.3875, 6.4375, 10.1708, 13.4167, 8.1375, 7.7417, 9.4833, 15.1, 9.8417, 25.5875, 8.4333, 8.3625, 32.3208, 8.6833, 8.5167, 7.8875, 15.55, 6.45, 6.95, 15.0, 8.7125, 40.125, 8.3, 42.4, 26.2833, 12.2875, 7.5208, 7.8, 61.9792, 8.1583, 71.2833, 12.275, 7.7875, 47.1, 61.175, 76.2917, 34.6542, 8.4042, 50.0, 22.025, 63.3583, 15.05, 28.7125, 8.6542, 33.5, 25.925, 15.75, 7.1417, 61.3792, 7.3125, 12.525, 15.0458, 12.875, 8.85, 21.6792, 12.65, 7.0458, 9.8375, 13.7917, 7.725, 38.5, 16.0, 81.8583, 8.1125, 7.875, 32.5, 6.8583, 8.0292, 9.475, 12.0, 7.7292, 9.2167, 4.0125, 211.5, 55.4417, 75.25, 35.0, 28.5, 6.2375, 14.0, 10.5167]\n",
            "Popularidade de cada valor:\n",
            "8.0500     0.048260\n",
            "13.0000    0.047138\n",
            "7.8958     0.042649\n",
            "7.7500     0.038159\n",
            "26.0000    0.034792\n",
            "             ...   \n",
            "35.0000    0.001122\n",
            "28.5000    0.001122\n",
            "6.2375     0.001122\n",
            "14.0000    0.001122\n",
            "10.5167    0.001122\n",
            "Name: Fare, Length: 248, dtype: float64\n"
          ]
        }
      ]
    },
    {
      "cell_type": "markdown",
      "source": [
        "d ) VALORES AUSENTES"
      ],
      "metadata": {
        "id": "QKAchp7hWgPZ"
      }
    },
    {
      "cell_type": "code",
      "source": [
        "# Verificar valores ausentes no DataFrame\n",
        "train_data.isnull().sum()"
      ],
      "metadata": {
        "id": "aKI3F1mtWla7",
        "colab": {
          "base_uri": "https://localhost:8080/"
        },
        "outputId": "d4808ebc-00bb-4507-beee-bcec9878ed24"
      },
      "execution_count": null,
      "outputs": [
        {
          "output_type": "execute_result",
          "data": {
            "text/plain": [
              "PassengerId      0\n",
              "Survived         0\n",
              "Pclass           0\n",
              "Name             0\n",
              "Sex              0\n",
              "Age            177\n",
              "SibSp            0\n",
              "Parch            0\n",
              "Ticket           0\n",
              "Fare             0\n",
              "Cabin          687\n",
              "Embarked         2\n",
              "dtype: int64"
            ]
          },
          "metadata": {},
          "execution_count": 9
        }
      ]
    },
    {
      "cell_type": "markdown",
      "source": [
        "VALORES ABERRANTES"
      ],
      "metadata": {
        "id": "D8gOSZEfWomJ"
      }
    },
    {
      "cell_type": "code",
      "source": [
        "\n",
        "# Identificar valores aberrantes para atributos numéricos\n",
        "numeric_attributes = ['Age', 'Fare']\n",
        "for attribute in numeric_attributes:\n",
        "    plt.boxplot(train_data[attribute].dropna())\n",
        "    plt.xlabel(attribute)\n",
        "    plt.ylabel('Valores')\n",
        "    plt.title(f'Boxplot - {attribute}')\n",
        "    plt.show()\n"
      ],
      "metadata": {
        "id": "yykK0XkVWrcJ",
        "colab": {
          "base_uri": "https://localhost:8080/",
          "height": 927
        },
        "outputId": "a9ee841c-aea7-401d-c5ea-d38c3cc38d74"
      },
      "execution_count": null,
      "outputs": [
        {
          "output_type": "display_data",
          "data": {
            "text/plain": [
              "<Figure size 640x480 with 1 Axes>"
            ],
            "image/png": "[encoded data removed]"
          },
          "metadata": {}
        },
        {
          "output_type": "display_data",
          "data": {
            "text/plain": [
              "<Figure size 640x480 with 1 Axes>"
            ],
            "image/png": "[encoded data removed]"
          },
          "metadata": {}
        }
      ]
    },
    {
      "cell_type": "markdown",
      "source": [
        "É possível identificar valores aberrantes dos atributos numéricos pela analise feita anteriormente. Analisando o atributo Fare, podemos perceber que o valor mínimo de 0 indica que há passageiros que não pagaram tarifa ou cujo valor não foi registrado. Dependendo do contexto, esses valores podem ser considerados como outliers, pois são extremamente baixos em comparação com a maioria dos passageiros que pagaram tarifa. O valor máximo de 512.3292 indica que há passageiros que pagaram uma tarifa muito alta. Esses valores também podem ser considerados outliers, pois estão bem acima da maioria dos valores de tarifa."
      ],
      "metadata": {
        "id": "AD2AhjRbHBDY"
      }
    },
    {
      "cell_type": "markdown",
      "source": [
        "VERIFICANDO INCOSISTÊNCIAS"
      ],
      "metadata": {
        "id": "X1o7J8JCI5t1"
      }
    },
    {
      "cell_type": "code",
      "source": [
        "#Verificar se existem valores diferentes de \"male\" e \"female\" no atributo \"Sex\"\n",
        "sex_values = train_data['Sex'].unique()\n",
        "inconsistent_sex_values = [value for value in sex_values if value not in ['male', 'female']]\n",
        "print(\"Valores inconsistentes encontrados no atributo 'Sex':\", inconsistent_sex_values)\n",
        "\n",
        "\n",
        "#Verificar se existem valores diferentes de \"S\", \"C\" e \"Q\" no atributo \"Embarked\"\n",
        "embarked_values = train_data['Embarked'].unique()\n",
        "inconsistent_embarked_values = [value for value in embarked_values if value not in ['S', 'C', 'Q']]\n",
        "print(\"Valores inconsistentes encontrados no atributo 'Embarked':\", inconsistent_embarked_values)\n",
        "\n",
        "\n",
        "#Verificar se existem valores diferentes de 1, 2 e 3 no atributo \"Pclass\"\n",
        "pclass_values = train_data['Pclass'].unique()\n",
        "inconsistent_pclass_values = [value for value in pclass_values if value not in [1, 2, 3]]\n",
        "print(\"Valores inconsistentes encontrados no atributo 'Pclass':\", inconsistent_pclass_values)\n",
        "\n",
        "\n",
        "#Verificar se existem valores negativos no atributo \"SibSp\"\n",
        "negative_sibsp_values = train_data[train_data['SibSp'] < 0]['SibSp']\n",
        "print(\"Valores negativos encontrados no atributo 'SibSp':\", negative_sibsp_values)\n",
        "\n",
        "\n",
        "#Verificar se existem valores negativos no atributo \"Parch\"\n",
        "negative_parch_values = train_data[train_data['Parch'] < 0]['Parch']\n",
        "print(\"Valores negativos encontrados no atributo 'Parch':\", negative_parch_values)\n"
      ],
      "metadata": {
        "id": "dA1_JtivJBA5",
        "colab": {
          "base_uri": "https://localhost:8080/"
        },
        "outputId": "856e279f-e3dc-4a9e-9235-e9a3f43d9409"
      },
      "execution_count": null,
      "outputs": [
        {
          "output_type": "stream",
          "name": "stdout",
          "text": [
            "Valores inconsistentes encontrados no atributo 'Sex': []\n",
            "Valores inconsistentes encontrados no atributo 'Embarked': [nan]\n",
            "Valores inconsistentes encontrados no atributo 'Pclass': []\n",
            "Valores negativos encontrados no atributo 'SibSp': Series([], Name: SibSp, dtype: int64)\n",
            "Valores negativos encontrados no atributo 'Parch': Series([], Name: Parch, dtype: int64)\n"
          ]
        }
      ]
    },
    {
      "cell_type": "markdown",
      "source": [
        "e ) CORRELAÇÃO ENTRE ATRIBUTOS NUMÉRICOS"
      ],
      "metadata": {
        "id": "Yf5kBXKbKjSc"
      }
    },
    {
      "cell_type": "code",
      "source": [
        "numeric_attributes = ['Age', 'Fare']\n",
        "correlation_matrix = train_data[numeric_attributes].corr()\n",
        "print(correlation_matrix)\n"
      ],
      "metadata": {
        "id": "aFCGhaqEKqjx",
        "colab": {
          "base_uri": "https://localhost:8080/"
        },
        "outputId": "08547d8c-84d6-4225-f666-7233acc49198"
      },
      "execution_count": null,
      "outputs": [
        {
          "output_type": "stream",
          "name": "stdout",
          "text": [
            "           Age      Fare\n",
            "Age   1.000000  0.096067\n",
            "Fare  0.096067  1.000000\n"
          ]
        }
      ]
    },
    {
      "cell_type": "markdown",
      "source": [
        "Interpretando os resultados, observamos que a correlação entre 'Age' (idade) e 'Fare' (tarifa) é de aproximadamente 0.096067. Isso indica uma correlação fraca ou quase nula entre esses atributos. Portanto, a idade de um passageiro não está fortemente relacionada com a tarifa paga."
      ],
      "metadata": {
        "id": "X8eFORLIK1m5"
      }
    },
    {
      "cell_type": "markdown",
      "source": [
        "### 2) Limpeza de dados e transformação"
      ],
      "metadata": {
        "id": "sR62n-11VYx2"
      }
    },
    {
      "cell_type": "markdown",
      "source": [
        "a) Preencha os valores ausentes"
      ],
      "metadata": {
        "id": "0yxjnQp9Vu89"
      }
    },
    {
      "cell_type": "code",
      "source": [
        "most_common_age = train_data[\"Age\"].mode()[0]\n",
        "train_data[\"Age\"].fillna(most_common_age, inplace=True)\n",
        "train_data['Embarked'].fillna(train_data['Embarked'].mode()[0], inplace = True)\n",
        "train_data[\"Cabin\"].fillna(\"Desconhecido\", inplace=True)"
      ],
      "metadata": {
        "id": "2SRm6uhhVjrS"
      },
      "execution_count": null,
      "outputs": []
    },
    {
      "cell_type": "markdown",
      "source": [
        "Para valores ausentes pode-se preenche-los com valores mais provaveis para cada atributo. Dessa forma, para a coluna Age e embarked vamos substituir utilizando  com o valor mais provável, que é calculado usando mode()[0]. Para a coluna Cabin achamos melhor preencher com um valor padrão."
      ],
      "metadata": {
        "id": "FREvfXE-a1or"
      }
    },
    {
      "cell_type": "code",
      "source": [
        "# Verificar valores ausentes no DataFrame\n",
        "train_data.isnull().sum()"
      ],
      "metadata": {
        "id": "mndCrlIpamaA",
        "colab": {
          "base_uri": "https://localhost:8080/"
        },
        "outputId": "4d356b93-ab0f-4b41-8c17-8733d5500808"
      },
      "execution_count": null,
      "outputs": [
        {
          "output_type": "execute_result",
          "data": {
            "text/plain": [
              "PassengerId    0\n",
              "Survived       0\n",
              "Pclass         0\n",
              "Name           0\n",
              "Sex            0\n",
              "Age            0\n",
              "SibSp          0\n",
              "Parch          0\n",
              "Ticket         0\n",
              "Fare           0\n",
              "Cabin          0\n",
              "Embarked       0\n",
              "dtype: int64"
            ]
          },
          "metadata": {},
          "execution_count": 14
        }
      ]
    },
    {
      "cell_type": "markdown",
      "source": [
        "b) Suavize os ruídos (use o qcut ou cut para dividir os bins)."
      ],
      "metadata": {
        "id": "caB99TPTqTan"
      }
    },
    {
      "cell_type": "code",
      "source": [
        "train_data['Fare_bin'] = pd.qcut(train_data['Fare'], q =4)\n",
        "train_data['Age_bin'] = pd.qcut(train_data['Age'], q =4, labels=False)\n",
        "train_data['SibSp_bin'] = pd.qcut(train_data['SibSp'], q =4, labels=False, duplicates='drop')\n",
        "train_data['Parch_bin'] = pd.qcut(train_data['Parch'], q =4, labels=False, duplicates='drop')\n",
        "\n",
        "print(train_data[[\"Age\", \"Age_bin\"]].head(10))\n",
        "print(train_data[[\"Fare\", \"Fare_bin\"]].head(10))\n",
        "print(train_data[[\"SibSp\", \"SibSp_bin\"]].head(10))\n",
        "print(train_data[[\"Parch\", \"Parch_bin\"]].head(10))"
      ],
      "metadata": {
        "id": "nljvTetwqa4d",
        "colab": {
          "base_uri": "https://localhost:8080/"
        },
        "outputId": "5b05f545-ba6d-4142-cf49-cb1905ef1b24"
      },
      "execution_count": null,
      "outputs": [
        {
          "output_type": "stream",
          "name": "stdout",
          "text": [
            "    Age  Age_bin\n",
            "0  22.0        0\n",
            "1  38.0        3\n",
            "2  26.0        2\n",
            "3  35.0        2\n",
            "4  35.0        2\n",
            "5  24.0        1\n",
            "6  54.0        3\n",
            "7   2.0        0\n",
            "8  27.0        2\n",
            "9  14.0        0\n",
            "      Fare         Fare_bin\n",
            "0   7.2500   (-0.001, 7.91]\n",
            "1  71.2833  (31.0, 512.329]\n",
            "2   7.9250   (7.91, 14.454]\n",
            "3  53.1000  (31.0, 512.329]\n",
            "4   8.0500   (7.91, 14.454]\n",
            "5   8.4583   (7.91, 14.454]\n",
            "6  51.8625  (31.0, 512.329]\n",
            "7  21.0750   (14.454, 31.0]\n",
            "8  11.1333   (7.91, 14.454]\n",
            "9  30.0708   (14.454, 31.0]\n",
            "   SibSp  SibSp_bin\n",
            "0      1          0\n",
            "1      1          0\n",
            "2      0          0\n",
            "3      1          0\n",
            "4      0          0\n",
            "5      0          0\n",
            "6      0          0\n",
            "7      3          1\n",
            "8      0          0\n",
            "9      1          0\n",
            "   Parch  Parch_bin\n",
            "0      0          0\n",
            "1      0          0\n",
            "2      0          0\n",
            "3      0          0\n",
            "4      0          0\n",
            "5      0          0\n",
            "6      0          0\n",
            "7      1          0\n",
            "8      2          0\n",
            "9      0          0\n"
          ]
        }
      ]
    },
    {
      "cell_type": "markdown",
      "source": [
        "Podemos suavizar os ruídos das seguintes colunas do dataset:\n",
        "\n",
        "Idade (Age): Pode-se criar faixas etárias para suavizar a variação na idade dos passageiros.\n",
        "\n",
        "Tarifa (Fare): Pode-se criar grupos de tarifas para agrupar os valores e reduzir o ruído.\n",
        "\n",
        "Número de irmãos/cônjuges a bordo (SibSp) e número de pais/filhos a bordo (Parch): Essas colunas podem ser agrupadas em categorias para simplificar a análise."
      ],
      "metadata": {
        "id": "YUPFRTzJtrs7"
      }
    },
    {
      "cell_type": "markdown",
      "source": [
        "c) Resolva as inconsistências, se houver.\n",
        "\n"
      ],
      "metadata": {
        "id": "iSgoE5jQvCYP"
      }
    },
    {
      "cell_type": "markdown",
      "source": [
        "Algumas inconsistências como valores ausentes foram resolvidas acima. Pode-se verificar também os valores duplicados. "
      ],
      "metadata": {
        "id": "3EXKVdVovJ2Y"
      }
    },
    {
      "cell_type": "code",
      "source": [
        "duplicates = train_data.duplicated()\n",
        "print(duplicates)"
      ],
      "metadata": {
        "id": "XbzF-Lkfv8nM",
        "colab": {
          "base_uri": "https://localhost:8080/"
        },
        "outputId": "5e8b6f1b-9c28-4c4c-a230-774d5c4b5770"
      },
      "execution_count": null,
      "outputs": [
        {
          "output_type": "stream",
          "name": "stdout",
          "text": [
            "0      False\n",
            "1      False\n",
            "2      False\n",
            "3      False\n",
            "4      False\n",
            "       ...  \n",
            "886    False\n",
            "887    False\n",
            "888    False\n",
            "889    False\n",
            "890    False\n",
            "Length: 891, dtype: bool\n"
          ]
        }
      ]
    },
    {
      "cell_type": "markdown",
      "source": [
        "d)Transformar atributos categóricos nominais em um vetor numérico:\n",
        "\n",
        "Podemos usar a técnica de codificação one-hot (OneHotEncoder) para transformar atributos categóricos nominais em um vetor numérico, onde cada categoria é represenada por uma coluna binária."
      ],
      "metadata": {
        "id": "vOR64LbsyH5C"
      }
    },
    {
      "cell_type": "code",
      "source": [
        "#Transformar atributo categórico nominal usando OneHotEncoder\n",
        "embarked = train_data[[\"Embarked\"]]\n",
        "sex = train_data[[\"Sex\"]]\n",
        "\n",
        "encoder = OneHotEncoder()\n",
        "embarked_encoded = encoder.fit_transform(embarked)\n",
        "embarked_encoded_df = pd.DataFrame.sparse.from_spmatrix(embarked_encoded)\n",
        "embarked_encoded_df.columns = [\"Embarked_\" + str(col) for col in embarked_encoded_df.columns]\n",
        "train_data = pd.concat([train_data, embarked_encoded_df], axis=1)\n",
        "\n",
        "encoder_sex = OneHotEncoder()\n",
        "sex_encoded = encoder.fit_transform(sex)\n",
        "sex_encoded_df = pd.DataFrame.sparse.from_spmatrix(sex_encoded)\n",
        "sex_encoded_df.columns = [\"Sex_\" + str(col) for col in sex_encoded_df.columns]\n",
        "train_data = pd.concat([train_data, sex_encoded_df], axis=1)\n",
        "\n",
        "train_data.head()"
      ],
      "metadata": {
        "id": "HzSy8nuGyYde",
        "colab": {
          "base_uri": "https://localhost:8080/",
          "height": 577
        },
        "outputId": "1b8ed553-434d-4adc-fc20-1ad95a94072c"
      },
      "execution_count": null,
      "outputs": [
        {
          "output_type": "execute_result",
          "data": {
            "text/plain": [
              "   PassengerId  Survived  Pclass  \\\n",
              "0            1         0       3   \n",
              "1            2         1       1   \n",
              "2            3         1       3   \n",
              "3            4         1       1   \n",
              "4            5         0       3   \n",
              "\n",
              "                                                Name     Sex   Age  SibSp  \\\n",
              "0                            Braund, Mr. Owen Harris    male  22.0      1   \n",
              "1  Cumings, Mrs. John Bradley (Florence Briggs Th...  female  38.0      1   \n",
              "2                             Heikkinen, Miss. Laina  female  26.0      0   \n",
              "3       Futrelle, Mrs. Jacques Heath (Lily May Peel)  female  35.0      1   \n",
              "4                           Allen, Mr. William Henry    male  35.0      0   \n",
              "\n",
              "   Parch            Ticket     Fare  ... Embarked         Fare_bin Age_bin  \\\n",
              "0      0         A/5 21171   7.2500  ...        S   (-0.001, 7.91]       0   \n",
              "1      0          PC 17599  71.2833  ...        C  (31.0, 512.329]       3   \n",
              "2      0  STON/O2. 3101282   7.9250  ...        S   (7.91, 14.454]       2   \n",
              "3      0            113803  53.1000  ...        S  (31.0, 512.329]       2   \n",
              "4      0            373450   8.0500  ...        S   (7.91, 14.454]       2   \n",
              "\n",
              "   SibSp_bin  Parch_bin  Embarked_0  Embarked_1  Embarked_2  Sex_0  Sex_1  \n",
              "0          0          0         0.0         0.0         1.0    0.0    1.0  \n",
              "1          0          0         1.0         0.0         0.0    1.0    0.0  \n",
              "2          0          0         0.0         0.0         1.0    1.0    0.0  \n",
              "3          0          0         0.0         0.0         1.0    1.0    0.0  \n",
              "4          0          0         0.0         0.0         1.0    0.0    1.0  \n",
              "\n",
              "[5 rows x 21 columns]"
            ],
            "text/html": [
              "\n",
              "  <div id=\"df-dea9b236-b50d-4b96-8449-1f82441746fa\">\n",
              "    <div class=\"colab-df-container\">\n",
              "      <div>\n",
              "<style scoped>\n",
              "    .dataframe tbody tr th:only-of-type {\n",
              "        vertical-align: middle;\n",
              "    }\n",
              "\n",
              "    .dataframe tbody tr th {\n",
              "        vertical-align: top;\n",
              "    }\n",
              "\n",
              "    .dataframe thead th {\n",
              "        text-align: right;\n",
              "    }\n",
              "</style>\n",
              "<table border=\"1\" class=\"dataframe\">\n",
              "  <thead>\n",
              "    <tr style=\"text-align: right;\">\n",
              "      <th></th>\n",
              "      <th>PassengerId</th>\n",
              "      <th>Survived</th>\n",
              "      <th>Pclass</th>\n",
              "      <th>Name</th>\n",
              "      <th>Sex</th>\n",
              "      <th>Age</th>\n",
              "      <th>SibSp</th>\n",
              "      <th>Parch</th>\n",
              "      <th>Ticket</th>\n",
              "      <th>Fare</th>\n",
              "      <th>...</th>\n",
              "      <th>Embarked</th>\n",
              "      <th>Fare_bin</th>\n",
              "      <th>Age_bin</th>\n",
              "      <th>SibSp_bin</th>\n",
              "      <th>Parch_bin</th>\n",
              "      <th>Embarked_0</th>\n",
              "      <th>Embarked_1</th>\n",
              "      <th>Embarked_2</th>\n",
              "      <th>Sex_0</th>\n",
              "      <th>Sex_1</th>\n",
              "    </tr>\n",
              "  </thead>\n",
              "  <tbody>\n",
              "    <tr>\n",
              "      <th>0</th>\n",
              "      <td>1</td>\n",
              "      <td>0</td>\n",
              "      <td>3</td>\n",
              "      <td>Braund, Mr. Owen Harris</td>\n",
              "      <td>male</td>\n",
              "      <td>22.0</td>\n",
              "      <td>1</td>\n",
              "      <td>0</td>\n",
              "      <td>A/5 21171</td>\n",
              "      <td>7.2500</td>\n",
              "      <td>...</td>\n",
              "      <td>S</td>\n",
              "      <td>(-0.001, 7.91]</td>\n",
              "      <td>0</td>\n",
              "      <td>0</td>\n",
              "      <td>0</td>\n",
              "      <td>0.0</td>\n",
              "      <td>0.0</td>\n",
              "      <td>1.0</td>\n",
              "      <td>0.0</td>\n",
              "      <td>1.0</td>\n",
              "    </tr>\n",
              "    <tr>\n",
              "      <th>1</th>\n",
              "      <td>2</td>\n",
              "      <td>1</td>\n",
              "      <td>1</td>\n",
              "      <td>Cumings, Mrs. John Bradley (Florence Briggs Th...</td>\n",
              "      <td>female</td>\n",
              "      <td>38.0</td>\n",
              "      <td>1</td>\n",
              "      <td>0</td>\n",
              "      <td>PC 17599</td>\n",
              "      <td>71.2833</td>\n",
              "      <td>...</td>\n",
              "      <td>C</td>\n",
              "      <td>(31.0, 512.329]</td>\n",
              "      <td>3</td>\n",
              "      <td>0</td>\n",
              "      <td>0</td>\n",
              "      <td>1.0</td>\n",
              "      <td>0.0</td>\n",
              "      <td>0.0</td>\n",
              "      <td>1.0</td>\n",
              "      <td>0.0</td>\n",
              "    </tr>\n",
              "    <tr>\n",
              "      <th>2</th>\n",
              "      <td>3</td>\n",
              "      <td>1</td>\n",
              "      <td>3</td>\n",
              "      <td>Heikkinen, Miss. Laina</td>\n",
              "      <td>female</td>\n",
              "      <td>26.0</td>\n",
              "      <td>0</td>\n",
              "      <td>0</td>\n",
              "      <td>STON/O2. 3101282</td>\n",
              "      <td>7.9250</td>\n",
              "      <td>...</td>\n",
              "      <td>S</td>\n",
              "      <td>(7.91, 14.454]</td>\n",
              "      <td>2</td>\n",
              "      <td>0</td>\n",
              "      <td>0</td>\n",
              "      <td>0.0</td>\n",
              "      <td>0.0</td>\n",
              "      <td>1.0</td>\n",
              "      <td>1.0</td>\n",
              "      <td>0.0</td>\n",
              "    </tr>\n",
              "    <tr>\n",
              "      <th>3</th>\n",
              "      <td>4</td>\n",
              "      <td>1</td>\n",
              "      <td>1</td>\n",
              "      <td>Futrelle, Mrs. Jacques Heath (Lily May Peel)</td>\n",
              "      <td>female</td>\n",
              "      <td>35.0</td>\n",
              "      <td>1</td>\n",
              "      <td>0</td>\n",
              "      <td>113803</td>\n",
              "      <td>53.1000</td>\n",
              "      <td>...</td>\n",
              "      <td>S</td>\n",
              "      <td>(31.0, 512.329]</td>\n",
              "      <td>2</td>\n",
              "      <td>0</td>\n",
              "      <td>0</td>\n",
              "      <td>0.0</td>\n",
              "      <td>0.0</td>\n",
              "      <td>1.0</td>\n",
              "      <td>1.0</td>\n",
              "      <td>0.0</td>\n",
              "    </tr>\n",
              "    <tr>\n",
              "      <th>4</th>\n",
              "      <td>5</td>\n",
              "      <td>0</td>\n",
              "      <td>3</td>\n",
              "      <td>Allen, Mr. William Henry</td>\n",
              "      <td>male</td>\n",
              "      <td>35.0</td>\n",
              "      <td>0</td>\n",
              "      <td>0</td>\n",
              "      <td>373450</td>\n",
              "      <td>8.0500</td>\n",
              "      <td>...</td>\n",
              "      <td>S</td>\n",
              "      <td>(7.91, 14.454]</td>\n",
              "      <td>2</td>\n",
              "      <td>0</td>\n",
              "      <td>0</td>\n",
              "      <td>0.0</td>\n",
              "      <td>0.0</td>\n",
              "      <td>1.0</td>\n",
              "      <td>0.0</td>\n",
              "      <td>1.0</td>\n",
              "    </tr>\n",
              "  </tbody>\n",
              "</table>\n",
              "<p>5 rows × 21 columns</p>\n",
              "</div>\n",
              "      <button class=\"colab-df-convert\" onclick=\"convertToInteractive('df-dea9b236-b50d-4b96-8449-1f82441746fa')\"\n",
              "              title=\"Convert this dataframe to an interactive table.\"\n",
              "              style=\"display:none;\">\n",
              "        \n",
              "  <svg xmlns=\"http://www.w3.org/2000/svg\" height=\"24px\"viewBox=\"0 0 24 24\"\n",
              "       width=\"24px\">\n",
              "    <path d=\"M0 0h24v24H0V0z\" fill=\"none\"/>\n",
              "    <path d=\"M18.56 5.44l.94 2.06.94-2.06 2.06-.94-2.06-.94-.94-2.06-.94 2.06-2.06.94zm-11 1L8.5 8.5l.94-2.06 2.06-.94-2.06-.94L8.5 2.5l-.94 2.06-2.06.94zm10 10l.94 2.06.94-2.06 2.06-.94-2.06-.94-.94-2.06-.94 2.06-2.06.94z\"/><path d=\"M17.41 7.96l-1.37-1.37c-.4-.4-.92-.59-1.43-.59-.52 0-1.04.2-1.43.59L10.3 9.45l-7.72 7.72c-.78.78-.78 2.05 0 2.83L4 21.41c.39.39.9.59 1.41.59.51 0 1.02-.2 1.41-.59l7.78-7.78 2.81-2.81c.8-.78.8-2.07 0-2.86zM5.41 20L4 18.59l7.72-7.72 1.47 1.35L5.41 20z\"/>\n",
              "  </svg>\n",
              "      </button>\n",
              "      \n",
              "  <style>\n",
              "    .colab-df-container {\n",
              "      display:flex;\n",
              "      flex-wrap:wrap;\n",
              "      gap: 12px;\n",
              "    }\n",
              "\n",
              "    .colab-df-convert {\n",
              "      background-color: #E8F0FE;\n",
              "      border: none;\n",
              "      border-radius: 50%;\n",
              "      cursor: pointer;\n",
              "      display: none;\n",
              "      fill: #1967D2;\n",
              "      height: 32px;\n",
              "      padding: 0 0 0 0;\n",
              "      width: 32px;\n",
              "    }\n",
              "\n",
              "    .colab-df-convert:hover {\n",
              "      background-color: #E2EBFA;\n",
              "      box-shadow: 0px 1px 2px rgba(60, 64, 67, 0.3), 0px 1px 3px 1px rgba(60, 64, 67, 0.15);\n",
              "      fill: #174EA6;\n",
              "    }\n",
              "\n",
              "    [theme=dark] .colab-df-convert {\n",
              "      background-color: #3B4455;\n",
              "      fill: #D2E3FC;\n",
              "    }\n",
              "\n",
              "    [theme=dark] .colab-df-convert:hover {\n",
              "      background-color: #434B5C;\n",
              "      box-shadow: 0px 1px 3px 1px rgba(0, 0, 0, 0.15);\n",
              "      filter: drop-shadow(0px 1px 2px rgba(0, 0, 0, 0.3));\n",
              "      fill: #FFFFFF;\n",
              "    }\n",
              "  </style>\n",
              "\n",
              "      <script>\n",
              "        const buttonEl =\n",
              "          document.querySelector('#df-dea9b236-b50d-4b96-8449-1f82441746fa button.colab-df-convert');\n",
              "        buttonEl.style.display =\n",
              "          google.colab.kernel.accessAllowed ? 'block' : 'none';\n",
              "\n",
              "        async function convertToInteractive(key) {\n",
              "          const element = document.querySelector('#df-dea9b236-b50d-4b96-8449-1f82441746fa');\n",
              "          const dataTable =\n",
              "            await google.colab.kernel.invokeFunction('convertToInteractive',\n",
              "                                                     [key], {});\n",
              "          if (!dataTable) return;\n",
              "\n",
              "          const docLinkHtml = 'Like what you see? Visit the ' +\n",
              "            '<a target=\"_blank\" href=https://colab.research.google.com/notebooks/data_table.ipynb>data table notebook</a>'\n",
              "            + ' to learn more about interactive tables.';\n",
              "          element.innerHTML = '';\n",
              "          dataTable['output_type'] = 'display_data';\n",
              "          await google.colab.output.renderOutput(dataTable, element);\n",
              "          const docLink = document.createElement('div');\n",
              "          docLink.innerHTML = docLinkHtml;\n",
              "          element.appendChild(docLink);\n",
              "        }\n",
              "      </script>\n",
              "    </div>\n",
              "  </div>\n",
              "  "
            ]
          },
          "metadata": {},
          "execution_count": 17
        }
      ]
    },
    {
      "cell_type": "markdown",
      "source": [
        "e) Transformação de atributos categóricos ordinais em atributos numéricos seguindo a ordem entre eles:"
      ],
      "metadata": {
        "id": "IKPeuyNB3hbg"
      }
    },
    {
      "cell_type": "code",
      "source": [
        "\n",
        "# Mapear valores ordinais da coluna 'Pclass' para números\n",
        "\n",
        "class_mapping = {'First': 1, 'Second': 2, 'Third': 3}\n",
        "train_data['Pclass'] = train_data['Pclass'].map(class_mapping)"
      ],
      "metadata": {
        "id": "QlxwxqO73pgI"
      },
      "execution_count": null,
      "outputs": []
    },
    {
      "cell_type": "code",
      "source": [
        "train_data.head()"
      ],
      "metadata": {
        "colab": {
          "base_uri": "https://localhost:8080/",
          "height": 577
        },
        "id": "rpYldSbvSHva",
        "outputId": "0958848c-fe97-4ee5-a35d-6688d39bd8c4"
      },
      "execution_count": null,
      "outputs": [
        {
          "output_type": "execute_result",
          "data": {
            "text/plain": [
              "   PassengerId  Survived  Pclass  \\\n",
              "0            1         0     NaN   \n",
              "1            2         1     NaN   \n",
              "2            3         1     NaN   \n",
              "3            4         1     NaN   \n",
              "4            5         0     NaN   \n",
              "\n",
              "                                                Name     Sex   Age  SibSp  \\\n",
              "0                            Braund, Mr. Owen Harris    male  22.0      1   \n",
              "1  Cumings, Mrs. John Bradley (Florence Briggs Th...  female  38.0      1   \n",
              "2                             Heikkinen, Miss. Laina  female  26.0      0   \n",
              "3       Futrelle, Mrs. Jacques Heath (Lily May Peel)  female  35.0      1   \n",
              "4                           Allen, Mr. William Henry    male  35.0      0   \n",
              "\n",
              "   Parch            Ticket     Fare  ... Embarked         Fare_bin Age_bin  \\\n",
              "0      0         A/5 21171   7.2500  ...        S   (-0.001, 7.91]       0   \n",
              "1      0          PC 17599  71.2833  ...        C  (31.0, 512.329]       3   \n",
              "2      0  STON/O2. 3101282   7.9250  ...        S   (7.91, 14.454]       2   \n",
              "3      0            113803  53.1000  ...        S  (31.0, 512.329]       2   \n",
              "4      0            373450   8.0500  ...        S   (7.91, 14.454]       2   \n",
              "\n",
              "   SibSp_bin  Parch_bin  Embarked_0  Embarked_1  Embarked_2  Sex_0  Sex_1  \n",
              "0          0          0         0.0         0.0         1.0    0.0    1.0  \n",
              "1          0          0         1.0         0.0         0.0    1.0    0.0  \n",
              "2          0          0         0.0         0.0         1.0    1.0    0.0  \n",
              "3          0          0         0.0         0.0         1.0    1.0    0.0  \n",
              "4          0          0         0.0         0.0         1.0    0.0    1.0  \n",
              "\n",
              "[5 rows x 21 columns]"
            ],
            "text/html": [
              "\n",
              "  <div id=\"df-9cd091b0-c7e6-4e50-a9e2-5a5768c8a2a1\">\n",
              "    <div class=\"colab-df-container\">\n",
              "      <div>\n",
              "<style scoped>\n",
              "    .dataframe tbody tr th:only-of-type {\n",
              "        vertical-align: middle;\n",
              "    }\n",
              "\n",
              "    .dataframe tbody tr th {\n",
              "        vertical-align: top;\n",
              "    }\n",
              "\n",
              "    .dataframe thead th {\n",
              "        text-align: right;\n",
              "    }\n",
              "</style>\n",
              "<table border=\"1\" class=\"dataframe\">\n",
              "  <thead>\n",
              "    <tr style=\"text-align: right;\">\n",
              "      <th></th>\n",
              "      <th>PassengerId</th>\n",
              "      <th>Survived</th>\n",
              "      <th>Pclass</th>\n",
              "      <th>Name</th>\n",
              "      <th>Sex</th>\n",
              "      <th>Age</th>\n",
              "      <th>SibSp</th>\n",
              "      <th>Parch</th>\n",
              "      <th>Ticket</th>\n",
              "      <th>Fare</th>\n",
              "      <th>...</th>\n",
              "      <th>Embarked</th>\n",
              "      <th>Fare_bin</th>\n",
              "      <th>Age_bin</th>\n",
              "      <th>SibSp_bin</th>\n",
              "      <th>Parch_bin</th>\n",
              "      <th>Embarked_0</th>\n",
              "      <th>Embarked_1</th>\n",
              "      <th>Embarked_2</th>\n",
              "      <th>Sex_0</th>\n",
              "      <th>Sex_1</th>\n",
              "    </tr>\n",
              "  </thead>\n",
              "  <tbody>\n",
              "    <tr>\n",
              "      <th>0</th>\n",
              "      <td>1</td>\n",
              "      <td>0</td>\n",
              "      <td>NaN</td>\n",
              "      <td>Braund, Mr. Owen Harris</td>\n",
              "      <td>male</td>\n",
              "      <td>22.0</td>\n",
              "      <td>1</td>\n",
              "      <td>0</td>\n",
              "      <td>A/5 21171</td>\n",
              "      <td>7.2500</td>\n",
              "      <td>...</td>\n",
              "      <td>S</td>\n",
              "      <td>(-0.001, 7.91]</td>\n",
              "      <td>0</td>\n",
              "      <td>0</td>\n",
              "      <td>0</td>\n",
              "      <td>0.0</td>\n",
              "      <td>0.0</td>\n",
              "      <td>1.0</td>\n",
              "      <td>0.0</td>\n",
              "      <td>1.0</td>\n",
              "    </tr>\n",
              "    <tr>\n",
              "      <th>1</th>\n",
              "      <td>2</td>\n",
              "      <td>1</td>\n",
              "      <td>NaN</td>\n",
              "      <td>Cumings, Mrs. John Bradley (Florence Briggs Th...</td>\n",
              "      <td>female</td>\n",
              "      <td>38.0</td>\n",
              "      <td>1</td>\n",
              "      <td>0</td>\n",
              "      <td>PC 17599</td>\n",
              "      <td>71.2833</td>\n",
              "      <td>...</td>\n",
              "      <td>C</td>\n",
              "      <td>(31.0, 512.329]</td>\n",
              "      <td>3</td>\n",
              "      <td>0</td>\n",
              "      <td>0</td>\n",
              "      <td>1.0</td>\n",
              "      <td>0.0</td>\n",
              "      <td>0.0</td>\n",
              "      <td>1.0</td>\n",
              "      <td>0.0</td>\n",
              "    </tr>\n",
              "    <tr>\n",
              "      <th>2</th>\n",
              "      <td>3</td>\n",
              "      <td>1</td>\n",
              "      <td>NaN</td>\n",
              "      <td>Heikkinen, Miss. Laina</td>\n",
              "      <td>female</td>\n",
              "      <td>26.0</td>\n",
              "      <td>0</td>\n",
              "      <td>0</td>\n",
              "      <td>STON/O2. 3101282</td>\n",
              "      <td>7.9250</td>\n",
              "      <td>...</td>\n",
              "      <td>S</td>\n",
              "      <td>(7.91, 14.454]</td>\n",
              "      <td>2</td>\n",
              "      <td>0</td>\n",
              "      <td>0</td>\n",
              "      <td>0.0</td>\n",
              "      <td>0.0</td>\n",
              "      <td>1.0</td>\n",
              "      <td>1.0</td>\n",
              "      <td>0.0</td>\n",
              "    </tr>\n",
              "    <tr>\n",
              "      <th>3</th>\n",
              "      <td>4</td>\n",
              "      <td>1</td>\n",
              "      <td>NaN</td>\n",
              "      <td>Futrelle, Mrs. Jacques Heath (Lily May Peel)</td>\n",
              "      <td>female</td>\n",
              "      <td>35.0</td>\n",
              "      <td>1</td>\n",
              "      <td>0</td>\n",
              "      <td>113803</td>\n",
              "      <td>53.1000</td>\n",
              "      <td>...</td>\n",
              "      <td>S</td>\n",
              "      <td>(31.0, 512.329]</td>\n",
              "      <td>2</td>\n",
              "      <td>0</td>\n",
              "      <td>0</td>\n",
              "      <td>0.0</td>\n",
              "      <td>0.0</td>\n",
              "      <td>1.0</td>\n",
              "      <td>1.0</td>\n",
              "      <td>0.0</td>\n",
              "    </tr>\n",
              "    <tr>\n",
              "      <th>4</th>\n",
              "      <td>5</td>\n",
              "      <td>0</td>\n",
              "      <td>NaN</td>\n",
              "      <td>Allen, Mr. William Henry</td>\n",
              "      <td>male</td>\n",
              "      <td>35.0</td>\n",
              "      <td>0</td>\n",
              "      <td>0</td>\n",
              "      <td>373450</td>\n",
              "      <td>8.0500</td>\n",
              "      <td>...</td>\n",
              "      <td>S</td>\n",
              "      <td>(7.91, 14.454]</td>\n",
              "      <td>2</td>\n",
              "      <td>0</td>\n",
              "      <td>0</td>\n",
              "      <td>0.0</td>\n",
              "      <td>0.0</td>\n",
              "      <td>1.0</td>\n",
              "      <td>0.0</td>\n",
              "      <td>1.0</td>\n",
              "    </tr>\n",
              "  </tbody>\n",
              "</table>\n",
              "<p>5 rows × 21 columns</p>\n",
              "</div>\n",
              "      <button class=\"colab-df-convert\" onclick=\"convertToInteractive('df-9cd091b0-c7e6-4e50-a9e2-5a5768c8a2a1')\"\n",
              "              title=\"Convert this dataframe to an interactive table.\"\n",
              "              style=\"display:none;\">\n",
              "        \n",
              "  <svg xmlns=\"http://www.w3.org/2000/svg\" height=\"24px\"viewBox=\"0 0 24 24\"\n",
              "       width=\"24px\">\n",
              "    <path d=\"M0 0h24v24H0V0z\" fill=\"none\"/>\n",
              "    <path d=\"M18.56 5.44l.94 2.06.94-2.06 2.06-.94-2.06-.94-.94-2.06-.94 2.06-2.06.94zm-11 1L8.5 8.5l.94-2.06 2.06-.94-2.06-.94L8.5 2.5l-.94 2.06-2.06.94zm10 10l.94 2.06.94-2.06 2.06-.94-2.06-.94-.94-2.06-.94 2.06-2.06.94z\"/><path d=\"M17.41 7.96l-1.37-1.37c-.4-.4-.92-.59-1.43-.59-.52 0-1.04.2-1.43.59L10.3 9.45l-7.72 7.72c-.78.78-.78 2.05 0 2.83L4 21.41c.39.39.9.59 1.41.59.51 0 1.02-.2 1.41-.59l7.78-7.78 2.81-2.81c.8-.78.8-2.07 0-2.86zM5.41 20L4 18.59l7.72-7.72 1.47 1.35L5.41 20z\"/>\n",
              "  </svg>\n",
              "      </button>\n",
              "      \n",
              "  <style>\n",
              "    .colab-df-container {\n",
              "      display:flex;\n",
              "      flex-wrap:wrap;\n",
              "      gap: 12px;\n",
              "    }\n",
              "\n",
              "    .colab-df-convert {\n",
              "      background-color: #E8F0FE;\n",
              "      border: none;\n",
              "      border-radius: 50%;\n",
              "      cursor: pointer;\n",
              "      display: none;\n",
              "      fill: #1967D2;\n",
              "      height: 32px;\n",
              "      padding: 0 0 0 0;\n",
              "      width: 32px;\n",
              "    }\n",
              "\n",
              "    .colab-df-convert:hover {\n",
              "      background-color: #E2EBFA;\n",
              "      box-shadow: 0px 1px 2px rgba(60, 64, 67, 0.3), 0px 1px 3px 1px rgba(60, 64, 67, 0.15);\n",
              "      fill: #174EA6;\n",
              "    }\n",
              "\n",
              "    [theme=dark] .colab-df-convert {\n",
              "      background-color: #3B4455;\n",
              "      fill: #D2E3FC;\n",
              "    }\n",
              "\n",
              "    [theme=dark] .colab-df-convert:hover {\n",
              "      background-color: #434B5C;\n",
              "      box-shadow: 0px 1px 3px 1px rgba(0, 0, 0, 0.15);\n",
              "      filter: drop-shadow(0px 1px 2px rgba(0, 0, 0, 0.3));\n",
              "      fill: #FFFFFF;\n",
              "    }\n",
              "  </style>\n",
              "\n",
              "      <script>\n",
              "        const buttonEl =\n",
              "          document.querySelector('#df-9cd091b0-c7e6-4e50-a9e2-5a5768c8a2a1 button.colab-df-convert');\n",
              "        buttonEl.style.display =\n",
              "          google.colab.kernel.accessAllowed ? 'block' : 'none';\n",
              "\n",
              "        async function convertToInteractive(key) {\n",
              "          const element = document.querySelector('#df-9cd091b0-c7e6-4e50-a9e2-5a5768c8a2a1');\n",
              "          const dataTable =\n",
              "            await google.colab.kernel.invokeFunction('convertToInteractive',\n",
              "                                                     [key], {});\n",
              "          if (!dataTable) return;\n",
              "\n",
              "          const docLinkHtml = 'Like what you see? Visit the ' +\n",
              "            '<a target=\"_blank\" href=https://colab.research.google.com/notebooks/data_table.ipynb>data table notebook</a>'\n",
              "            + ' to learn more about interactive tables.';\n",
              "          element.innerHTML = '';\n",
              "          dataTable['output_type'] = 'display_data';\n",
              "          await google.colab.output.renderOutput(dataTable, element);\n",
              "          const docLink = document.createElement('div');\n",
              "          docLink.innerHTML = docLinkHtml;\n",
              "          element.appendChild(docLink);\n",
              "        }\n",
              "      </script>\n",
              "    </div>\n",
              "  </div>\n",
              "  "
            ]
          },
          "metadata": {},
          "execution_count": 19
        }
      ]
    },
    {
      "cell_type": "markdown",
      "source": [
        "f) Normalização dos valores de atributos numéricos:\n",
        "\n",
        "A normalização de valores numéricos é importante para evitar que atributos com intervalos diferentes tenham pesos desproporcionais.Podemos usar a técnica de normalização Min-Max para transformar os valores de um atributo numérico para um intervalo específico, como [0,1]."
      ],
      "metadata": {
        "id": "Id8XBs9X3wT1"
      }
    },
    {
      "cell_type": "code",
      "source": [
        "# Normalizar os valores da coluna 'Fare' e 'Age'\n",
        "numerical_attributes = train_data[[\"Age\", \"Fare\"]]\n",
        "scaler = MinMaxScaler()\n",
        "normalized_attributes = scaler.fit_transform(numerical_attributes)\n",
        "normalized_attributes_df = pd.DataFrame(normalized_attributes, columns=[\"Age\", \"Fare\"])\n",
        "train_data[[\"Age\", \"Fare\"]] = normalized_attributes_df"
      ],
      "metadata": {
        "id": "YBQ_PggC31QX"
      },
      "execution_count": null,
      "outputs": []
    },
    {
      "cell_type": "code",
      "source": [
        "train_data.head()"
      ],
      "metadata": {
        "colab": {
          "base_uri": "https://localhost:8080/",
          "height": 577
        },
        "id": "73Ail7sMSv-b",
        "outputId": "5626b97d-aea4-4640-9270-6ab0ebdf8350"
      },
      "execution_count": null,
      "outputs": [
        {
          "output_type": "execute_result",
          "data": {
            "text/plain": [
              "   PassengerId  Survived  Pclass  \\\n",
              "0            1         0     NaN   \n",
              "1            2         1     NaN   \n",
              "2            3         1     NaN   \n",
              "3            4         1     NaN   \n",
              "4            5         0     NaN   \n",
              "\n",
              "                                                Name     Sex       Age  SibSp  \\\n",
              "0                            Braund, Mr. Owen Harris    male  0.271174      1   \n",
              "1  Cumings, Mrs. John Bradley (Florence Briggs Th...  female  0.472229      1   \n",
              "2                             Heikkinen, Miss. Laina  female  0.321438      0   \n",
              "3       Futrelle, Mrs. Jacques Heath (Lily May Peel)  female  0.434531      1   \n",
              "4                           Allen, Mr. William Henry    male  0.434531      0   \n",
              "\n",
              "   Parch            Ticket      Fare  ... Embarked         Fare_bin Age_bin  \\\n",
              "0      0         A/5 21171  0.014151  ...        S   (-0.001, 7.91]       0   \n",
              "1      0          PC 17599  0.139136  ...        C  (31.0, 512.329]       3   \n",
              "2      0  STON/O2. 3101282  0.015469  ...        S   (7.91, 14.454]       2   \n",
              "3      0            113803  0.103644  ...        S  (31.0, 512.329]       2   \n",
              "4      0            373450  0.015713  ...        S   (7.91, 14.454]       2   \n",
              "\n",
              "   SibSp_bin  Parch_bin  Embarked_0  Embarked_1  Embarked_2  Sex_0  Sex_1  \n",
              "0          0          0         0.0         0.0         1.0    0.0    1.0  \n",
              "1          0          0         1.0         0.0         0.0    1.0    0.0  \n",
              "2          0          0         0.0         0.0         1.0    1.0    0.0  \n",
              "3          0          0         0.0         0.0         1.0    1.0    0.0  \n",
              "4          0          0         0.0         0.0         1.0    0.0    1.0  \n",
              "\n",
              "[5 rows x 21 columns]"
            ],
            "text/html": [
              "\n",
              "  <div id=\"df-26bc5bde-94a1-4cdb-b6dd-989306d05a5e\">\n",
              "    <div class=\"colab-df-container\">\n",
              "      <div>\n",
              "<style scoped>\n",
              "    .dataframe tbody tr th:only-of-type {\n",
              "        vertical-align: middle;\n",
              "    }\n",
              "\n",
              "    .dataframe tbody tr th {\n",
              "        vertical-align: top;\n",
              "    }\n",
              "\n",
              "    .dataframe thead th {\n",
              "        text-align: right;\n",
              "    }\n",
              "</style>\n",
              "<table border=\"1\" class=\"dataframe\">\n",
              "  <thead>\n",
              "    <tr style=\"text-align: right;\">\n",
              "      <th></th>\n",
              "      <th>PassengerId</th>\n",
              "      <th>Survived</th>\n",
              "      <th>Pclass</th>\n",
              "      <th>Name</th>\n",
              "      <th>Sex</th>\n",
              "      <th>Age</th>\n",
              "      <th>SibSp</th>\n",
              "      <th>Parch</th>\n",
              "      <th>Ticket</th>\n",
              "      <th>Fare</th>\n",
              "      <th>...</th>\n",
              "      <th>Embarked</th>\n",
              "      <th>Fare_bin</th>\n",
              "      <th>Age_bin</th>\n",
              "      <th>SibSp_bin</th>\n",
              "      <th>Parch_bin</th>\n",
              "      <th>Embarked_0</th>\n",
              "      <th>Embarked_1</th>\n",
              "      <th>Embarked_2</th>\n",
              "      <th>Sex_0</th>\n",
              "      <th>Sex_1</th>\n",
              "    </tr>\n",
              "  </thead>\n",
              "  <tbody>\n",
              "    <tr>\n",
              "      <th>0</th>\n",
              "      <td>1</td>\n",
              "      <td>0</td>\n",
              "      <td>NaN</td>\n",
              "      <td>Braund, Mr. Owen Harris</td>\n",
              "      <td>male</td>\n",
              "      <td>0.271174</td>\n",
              "      <td>1</td>\n",
              "      <td>0</td>\n",
              "      <td>A/5 21171</td>\n",
              "      <td>0.014151</td>\n",
              "      <td>...</td>\n",
              "      <td>S</td>\n",
              "      <td>(-0.001, 7.91]</td>\n",
              "      <td>0</td>\n",
              "      <td>0</td>\n",
              "      <td>0</td>\n",
              "      <td>0.0</td>\n",
              "      <td>0.0</td>\n",
              "      <td>1.0</td>\n",
              "      <td>0.0</td>\n",
              "      <td>1.0</td>\n",
              "    </tr>\n",
              "    <tr>\n",
              "      <th>1</th>\n",
              "      <td>2</td>\n",
              "      <td>1</td>\n",
              "      <td>NaN</td>\n",
              "      <td>Cumings, Mrs. John Bradley (Florence Briggs Th...</td>\n",
              "      <td>female</td>\n",
              "      <td>0.472229</td>\n",
              "      <td>1</td>\n",
              "      <td>0</td>\n",
              "      <td>PC 17599</td>\n",
              "      <td>0.139136</td>\n",
              "      <td>...</td>\n",
              "      <td>C</td>\n",
              "      <td>(31.0, 512.329]</td>\n",
              "      <td>3</td>\n",
              "      <td>0</td>\n",
              "      <td>0</td>\n",
              "      <td>1.0</td>\n",
              "      <td>0.0</td>\n",
              "      <td>0.0</td>\n",
              "      <td>1.0</td>\n",
              "      <td>0.0</td>\n",
              "    </tr>\n",
              "    <tr>\n",
              "      <th>2</th>\n",
              "      <td>3</td>\n",
              "      <td>1</td>\n",
              "      <td>NaN</td>\n",
              "      <td>Heikkinen, Miss. Laina</td>\n",
              "      <td>female</td>\n",
              "      <td>0.321438</td>\n",
              "      <td>0</td>\n",
              "      <td>0</td>\n",
              "      <td>STON/O2. 3101282</td>\n",
              "      <td>0.015469</td>\n",
              "      <td>...</td>\n",
              "      <td>S</td>\n",
              "      <td>(7.91, 14.454]</td>\n",
              "      <td>2</td>\n",
              "      <td>0</td>\n",
              "      <td>0</td>\n",
              "      <td>0.0</td>\n",
              "      <td>0.0</td>\n",
              "      <td>1.0</td>\n",
              "      <td>1.0</td>\n",
              "      <td>0.0</td>\n",
              "    </tr>\n",
              "    <tr>\n",
              "      <th>3</th>\n",
              "      <td>4</td>\n",
              "      <td>1</td>\n",
              "      <td>NaN</td>\n",
              "      <td>Futrelle, Mrs. Jacques Heath (Lily May Peel)</td>\n",
              "      <td>female</td>\n",
              "      <td>0.434531</td>\n",
              "      <td>1</td>\n",
              "      <td>0</td>\n",
              "      <td>113803</td>\n",
              "      <td>0.103644</td>\n",
              "      <td>...</td>\n",
              "      <td>S</td>\n",
              "      <td>(31.0, 512.329]</td>\n",
              "      <td>2</td>\n",
              "      <td>0</td>\n",
              "      <td>0</td>\n",
              "      <td>0.0</td>\n",
              "      <td>0.0</td>\n",
              "      <td>1.0</td>\n",
              "      <td>1.0</td>\n",
              "      <td>0.0</td>\n",
              "    </tr>\n",
              "    <tr>\n",
              "      <th>4</th>\n",
              "      <td>5</td>\n",
              "      <td>0</td>\n",
              "      <td>NaN</td>\n",
              "      <td>Allen, Mr. William Henry</td>\n",
              "      <td>male</td>\n",
              "      <td>0.434531</td>\n",
              "      <td>0</td>\n",
              "      <td>0</td>\n",
              "      <td>373450</td>\n",
              "      <td>0.015713</td>\n",
              "      <td>...</td>\n",
              "      <td>S</td>\n",
              "      <td>(7.91, 14.454]</td>\n",
              "      <td>2</td>\n",
              "      <td>0</td>\n",
              "      <td>0</td>\n",
              "      <td>0.0</td>\n",
              "      <td>0.0</td>\n",
              "      <td>1.0</td>\n",
              "      <td>0.0</td>\n",
              "      <td>1.0</td>\n",
              "    </tr>\n",
              "  </tbody>\n",
              "</table>\n",
              "<p>5 rows × 21 columns</p>\n",
              "</div>\n",
              "      <button class=\"colab-df-convert\" onclick=\"convertToInteractive('df-26bc5bde-94a1-4cdb-b6dd-989306d05a5e')\"\n",
              "              title=\"Convert this dataframe to an interactive table.\"\n",
              "              style=\"display:none;\">\n",
              "        \n",
              "  <svg xmlns=\"http://www.w3.org/2000/svg\" height=\"24px\"viewBox=\"0 0 24 24\"\n",
              "       width=\"24px\">\n",
              "    <path d=\"M0 0h24v24H0V0z\" fill=\"none\"/>\n",
              "    <path d=\"M18.56 5.44l.94 2.06.94-2.06 2.06-.94-2.06-.94-.94-2.06-.94 2.06-2.06.94zm-11 1L8.5 8.5l.94-2.06 2.06-.94-2.06-.94L8.5 2.5l-.94 2.06-2.06.94zm10 10l.94 2.06.94-2.06 2.06-.94-2.06-.94-.94-2.06-.94 2.06-2.06.94z\"/><path d=\"M17.41 7.96l-1.37-1.37c-.4-.4-.92-.59-1.43-.59-.52 0-1.04.2-1.43.59L10.3 9.45l-7.72 7.72c-.78.78-.78 2.05 0 2.83L4 21.41c.39.39.9.59 1.41.59.51 0 1.02-.2 1.41-.59l7.78-7.78 2.81-2.81c.8-.78.8-2.07 0-2.86zM5.41 20L4 18.59l7.72-7.72 1.47 1.35L5.41 20z\"/>\n",
              "  </svg>\n",
              "      </button>\n",
              "      \n",
              "  <style>\n",
              "    .colab-df-container {\n",
              "      display:flex;\n",
              "      flex-wrap:wrap;\n",
              "      gap: 12px;\n",
              "    }\n",
              "\n",
              "    .colab-df-convert {\n",
              "      background-color: #E8F0FE;\n",
              "      border: none;\n",
              "      border-radius: 50%;\n",
              "      cursor: pointer;\n",
              "      display: none;\n",
              "      fill: #1967D2;\n",
              "      height: 32px;\n",
              "      padding: 0 0 0 0;\n",
              "      width: 32px;\n",
              "    }\n",
              "\n",
              "    .colab-df-convert:hover {\n",
              "      background-color: #E2EBFA;\n",
              "      box-shadow: 0px 1px 2px rgba(60, 64, 67, 0.3), 0px 1px 3px 1px rgba(60, 64, 67, 0.15);\n",
              "      fill: #174EA6;\n",
              "    }\n",
              "\n",
              "    [theme=dark] .colab-df-convert {\n",
              "      background-color: #3B4455;\n",
              "      fill: #D2E3FC;\n",
              "    }\n",
              "\n",
              "    [theme=dark] .colab-df-convert:hover {\n",
              "      background-color: #434B5C;\n",
              "      box-shadow: 0px 1px 3px 1px rgba(0, 0, 0, 0.15);\n",
              "      filter: drop-shadow(0px 1px 2px rgba(0, 0, 0, 0.3));\n",
              "      fill: #FFFFFF;\n",
              "    }\n",
              "  </style>\n",
              "\n",
              "      <script>\n",
              "        const buttonEl =\n",
              "          document.querySelector('#df-26bc5bde-94a1-4cdb-b6dd-989306d05a5e button.colab-df-convert');\n",
              "        buttonEl.style.display =\n",
              "          google.colab.kernel.accessAllowed ? 'block' : 'none';\n",
              "\n",
              "        async function convertToInteractive(key) {\n",
              "          const element = document.querySelector('#df-26bc5bde-94a1-4cdb-b6dd-989306d05a5e');\n",
              "          const dataTable =\n",
              "            await google.colab.kernel.invokeFunction('convertToInteractive',\n",
              "                                                     [key], {});\n",
              "          if (!dataTable) return;\n",
              "\n",
              "          const docLinkHtml = 'Like what you see? Visit the ' +\n",
              "            '<a target=\"_blank\" href=https://colab.research.google.com/notebooks/data_table.ipynb>data table notebook</a>'\n",
              "            + ' to learn more about interactive tables.';\n",
              "          element.innerHTML = '';\n",
              "          dataTable['output_type'] = 'display_data';\n",
              "          await google.colab.output.renderOutput(dataTable, element);\n",
              "          const docLink = document.createElement('div');\n",
              "          docLink.innerHTML = docLinkHtml;\n",
              "          element.appendChild(docLink);\n",
              "        }\n",
              "      </script>\n",
              "    </div>\n",
              "  </div>\n",
              "  "
            ]
          },
          "metadata": {},
          "execution_count": 21
        }
      ]
    }
  ]
}